{
 "cells": [
  {
   "cell_type": "code",
   "execution_count": 1,
   "id": "e937eeb7",
   "metadata": {},
   "outputs": [],
   "source": [
    "import random\n",
    "import torch\n",
    "import numpy as np\n",
    "from model.resnet import ResNet18\n",
    "from model.smooth_cross_entropy import smooth_crossentropy\n",
    "from data.cifar import Cifar\n",
    "from utility.log import Log\n",
    "from utility.step_lr import StepLR\n",
    "from utility.bypass_bn import enable_running_stats, disable_running_stats\n",
    "import matplotlib.pyplot as plt\n",
    "\n",
    "import sys; sys.path.append(\"..\")\n",
    "from sam import SAM"
   ]
  },
  {
   "cell_type": "code",
   "execution_count": 2,
   "id": "ee73a211",
   "metadata": {},
   "outputs": [],
   "source": [
    "adaptive =  True\n",
    "batch_size = 128\n",
    "depth = 16\n",
    "dropout = 0.0\n",
    "epochs = 200\n",
    "label_smoothing = 0.1\n",
    "learning_rate = 0.001\n",
    "momentum= 0.9\n",
    "threads = 5\n",
    "rho = 2.0\n",
    "weight_decay = 0.0005\n",
    "width_factor = 8"
   ]
  },
  {
   "cell_type": "code",
   "execution_count": 3,
   "id": "95ac2912",
   "metadata": {},
   "outputs": [],
   "source": [
    "def initialize(seed: int):\n",
    "    random.seed(seed)\n",
    "    torch.manual_seed(seed)\n",
    "    torch.cuda.manual_seed(seed)\n",
    "    torch.cuda.manual_seed_all(seed)\n",
    "\n",
    "    torch.backends.cudnn.enabled = True\n",
    "    torch.backends.cudnn.benchmark = True\n",
    "    torch.backends.cudnn.deterministic = False"
   ]
  },
  {
   "cell_type": "code",
   "execution_count": 4,
   "id": "289f9e63",
   "metadata": {},
   "outputs": [
    {
     "name": "stdout",
     "output_type": "stream",
     "text": [
      "cuda:0\n"
     ]
    }
   ],
   "source": [
    "initialize(seed=42)\n",
    "device = torch.device(\"cuda:0\" if torch.cuda.is_available() else \"cpu\")\n",
    "print(device)"
   ]
  },
  {
   "cell_type": "code",
   "execution_count": 5,
   "id": "e3354e93",
   "metadata": {},
   "outputs": [
    {
     "name": "stdout",
     "output_type": "stream",
     "text": [
      "Files already downloaded and verified\n",
      "Files already downloaded and verified\n",
      "Files already downloaded and verified\n"
     ]
    }
   ],
   "source": [
    "dataset = Cifar(batch_size, threads)\n",
    "log = Log(log_each=10)\n",
    "model = ResNet18(num_classes=10).to(device)"
   ]
  },
  {
   "cell_type": "code",
   "execution_count": 6,
   "id": "e2e5bf54",
   "metadata": {},
   "outputs": [],
   "source": [
    "base_optimizer = torch.optim.Adam\n",
    "optimizer = SAM(model.parameters(), base_optimizer, rho=rho, adaptive=adaptive, lr=learning_rate, weight_decay=weight_decay)\n",
    "scheduler = StepLR(optimizer, learning_rate, epochs)"
   ]
  },
  {
   "cell_type": "code",
   "execution_count": 7,
   "id": "c6b3b658",
   "metadata": {},
   "outputs": [],
   "source": [
    "train_losses = np.zeros(epochs)\n",
    "train_accuracy = np.zeros(epochs)\n",
    "val_losses = np.zeros(epochs)\n",
    "val_accuracy = np.zeros(epochs)"
   ]
  },
  {
   "cell_type": "code",
   "execution_count": null,
   "id": "57b4261d",
   "metadata": {},
   "outputs": [
    {
     "name": "stdout",
     "output_type": "stream",
     "text": [
      "┏━━━━━━━━━━━━━━┳━━━━━━━╸T╺╸R╺╸A╺╸I╺╸N╺━━━━━━━┳━━━━━━━╸S╺╸T╺╸A╺╸T╺╸S╺━━━━━━━┳━━━━━━━╸V╺╸A╺╸L╺╸I╺╸D╺━━━━━━━┓\n",
      "┃              ┃              ╷              ┃              ╷              ┃              ╷              ┃\n",
      "┃       epoch  ┃        loss  │    accuracy  ┃        l.r.  │     elapsed  ┃        loss  │    accuracy  ┃\n",
      "┠──────────────╂──────────────┼──────────────╂──────────────┼──────────────╂──────────────┼──────────────┨\n",
      "┃           0  ┃      1.2028  │     42.40 %  ┃   1.000e-03  │   04:40 min  ┃┈██████████████████████████▓┈┨      1.0204  │     52.66 %  ┃\n",
      "┃           1  ┃      0.8172  │     62.40 %  ┃   1.000e-03  │   06:57 min  ┃┈██████████████████████████▓┈┨      0.9666  │     56.39 %  ┃\n",
      "┃           2  ┃      0.6656  │     70.19 %  ┃   1.000e-03  │   07:27 min  ┃┈██████████████████████████▓┈┨      0.6946  │     67.94 %  ┃\n",
      "┃           3  ┃      0.5682  │     75.10 %  ┃   1.000e-03  │   08:03 min  ┃┈██████████████████████████▓┈┨      0.6878  │     69.11 %  ┃\n",
      "┃           4  ┃      0.5067  │     78.17 %  ┃   1.000e-03  │   06:54 min  ┃┈██████████████████████████▓┈┨      0.5656  │     74.78 %  ┃\n",
      "┃           5  ┃      0.4680  │     79.86 %  ┃   1.000e-03  │   05:52 min  ┃┈██████████████████████████▓┈┨      0.5611  │     76.29 %  ┃\n",
      "┃           6  ┃      0.4323  │     81.60 %  ┃   1.000e-03  │   06:22 min  ┃┈██████████████████████████▓┈┨      0.5607  │     76.11 %  ┃\n",
      "┃           7  ┃      0.4047  │     82.91 %  ┃   1.000e-03  │   06:45 min  ┃┈██████████████████████████▓┈┨      0.3891  │     83.38 %  ┃\n",
      "┃           8  ┃      0.3816  │     84.15 %  ┃   1.000e-03  │   06:51 min  ┃┈██████████████████████████▓┈┨      0.4053  │     83.07 %  ┃\n",
      "┃           9  ┃      0.3643  │     84.79 %  ┃   1.000e-03  │   07:04 min  ┃┈██████████████████████████▓┈┨      0.4533  │     79.89 %  ┃\n",
      "┃          10  ┃      0.3449  │     85.78 %  ┃   1.000e-03  │   07:23 min  ┃┈██████████████████████████▓┈┨      0.4570  │     80.04 %  ┃\n",
      "┃          11  ┃      0.3358  │     85.92 %  ┃   1.000e-03  │   07:28 min  ┃┈██████████████████████████▓┈┨      0.3892  │     83.13 %  ┃\n",
      "┃          12  ┃      0.3245  │     86.60 %  ┃   1.000e-03  │   07:28 min  ┃┈██████████████████████████▓┈┨      0.3817  │     83.88 %  ┃\n",
      "┃          13  ┃      0.3137  │     87.04 %  ┃   1.000e-03  │   06:46 min  ┃┈██████████████████████████▓┈┨      0.3624  │     83.80 %  ┃\n",
      "┃          14  ┃      0.3052  │     87.38 %  ┃   1.000e-03  │   07:10 min  ┃┈██████████████████████████▓┈┨      0.3770  │     83.66 %  ┃\n",
      "┃          15  ┃      0.2961  │     87.91 %  ┃   1.000e-03  │   07:30 min  ┃┈██████████████████████████▓┈┨      0.3719  │     83.63 %  ┃\n",
      "┃          16  ┃      0.2930  │     88.01 %  ┃   1.000e-03  │   07:23 min  ┃┈██████████████████████████▓┈┨      0.3214  │     86.38 %  ┃\n",
      "┃          17  ┃      0.2840  │     88.54 %  ┃   1.000e-03  │   07:24 min  ┃┈██████████████████████████▓┈┨      0.3173  │     86.46 %  ┃\n",
      "┃          18  ┃      0.2820  │     88.65 %  ┃   1.000e-03  │   07:31 min  ┃┈██████████████████████████▓┈┨      0.3159  │     86.60 %  ┃\n",
      "┃          19  ┃      0.2778  │     88.65 %  ┃   1.000e-03  │   07:21 min  ┃┈██████████████████████████▓┈┨      0.3211  │     86.33 %  ┃\n",
      "┃          20  ┃      0.2718  │     88.96 %  ┃   1.000e-03  │   06:46 min  ┃┈██████████████████████████▓┈┨      0.3483  │     84.69 %  ┃\n",
      "┃          21  ┃      0.2667  │     89.26 %  ┃   1.000e-03  │   06:57 min  ┃┈██████████████████████████▓┈┨      0.3394  │     85.40 %  ┃\n",
      "┃          22  ┃      0.2662  │     89.37 %  ┃   1.000e-03  │   26:37 min  ┃┈██████████████████████████▓┈┨      0.3218  │     86.05 %  ┃\n",
      "┃          23  ┃      0.2584  │     89.60 %  ┃   1.000e-03  │   21:19 min  ┃┈██████████████████████████▓┈┨      0.3263  │     86.12 %  ┃\n",
      "┃          24  ┃      0.2558  │     89.67 %  ┃   1.000e-03  │   21:21 min  ┃┈██████████████████████████▓┈┨      0.3193  │     86.31 %  ┃\n",
      "┃          25  ┃      0.2532  │     89.80 %  ┃   1.000e-03  │   09:25 min  ┃┈██████████████████████████▓┈┨      0.2923  │     87.57 %  ┃\n",
      "┃          26  ┃      0.2487  │     90.10 %  ┃   1.000e-03  │   07:28 min  ┃┈██████████████████████████▓┈┨      0.3077  │     86.93 %  ┃\n",
      "┃          27  ┃      0.2453  │     90.16 %  ┃   1.000e-03  │   07:36 min  ┃┈██████████████████████████▓┈┨      0.2764  │     88.34 %  ┃\n",
      "┃          28  ┃      0.2452  │     90.24 %  ┃   1.000e-03  │   07:37 min  ┃┈██████████████████████████▓┈┨      0.2570  │     89.23 %  ┃\n",
      "┃          29  ┃      0.2447  │     90.30 %  ┃   1.000e-03  │   07:24 min  ┃┈██████████████████████████▓┈┨      0.2873  │     87.25 %  ┃\n",
      "┃          30  ┃      0.2424  │     90.39 %  ┃   1.000e-03  │   07:06 min  ┃┈██████████████████████████▓┈┨      0.2702  │     88.67 %  ┃\n",
      "┃          31  ┃      0.2392  │     90.53 %  ┃   1.000e-03  │   07:09 min  ┃┈██████████████████████████▓┈┨      0.3055  │     86.94 %  ┃\n",
      "┃          32  ┃      0.2371  │     90.49 %  ┃   1.000e-03  │   07:07 min  ┃┈██████████████████████████▓┈┨      0.2922  │     87.43 %  ┃\n",
      "┃          33  ┃      0.2366  │     90.55 %  ┃   1.000e-03  │   06:14 min  ┃┈██████████████████████████▓┈┨      0.2577  │     89.33 %  ┃\n",
      "┃          34  ┃      0.2327  │     90.81 %  ┃   1.000e-03  │   04:21 min  ┃┈██████████████████████████▓┈┨      0.2727  │     88.35 %  ┃\n",
      "┃          35  ┃      0.2318  │     90.95 %  ┃   1.000e-03  │   04:18 min  ┃┈██████████████████████████▓┈┨      0.3067  │     86.80 %  ┃\n",
      "┃          36  ┃      0.2343  │     90.67 %  ┃   1.000e-03  │   04:38 min  ┃┈██████████████████████████▓┈┨      0.2811  │     87.70 %  ┃\n",
      "┃          37  ┃      0.2327  │     90.72 %  ┃   1.000e-03  │   05:04 min  ┃┈██████████████████████████▓┈┨      0.2572  │     88.91 %  ┃\n",
      "┃          38  ┃      0.2303  │     90.84 %  ┃   1.000e-03  │   05:05 min  ┃┈██████████████████████████▓┈┨      0.2819  │     87.78 %  ┃\n",
      "┃          39  ┃      0.2277  │     91.09 %  ┃   1.000e-03  │   04:58 min  ┃┈██████████████████████████▓┈┨      0.2590  │     88.86 %  ┃\n",
      "┃          40  ┃      0.2290  │     90.96 %  ┃   1.000e-03  │   05:10 min  ┃┈██████████████████████████▓┈┨      0.2638  │     88.74 %  ┃\n",
      "┃          41  ┃      0.2282  │     90.95 %  ┃   1.000e-03  │   05:11 min  ┃┈██████████████████████████▓┈┨      0.2809  │     87.72 %  ┃\n",
      "┃          42  ┃      0.2260  │     91.13 %  ┃   1.000e-03  │   05:14 min  ┃┈██████████████████████████▓┈┨      0.2680  │     89.07 %  ┃\n",
      "┃          43  ┃      0.2247  │     91.06 %  ┃   1.000e-03  │   05:19 min  ┃┈██████████████████████████▓┈┨      0.2771  │     88.05 %  ┃\n",
      "┃          44  ┃      0.2231  │     91.16 %  ┃   1.000e-03  │   05:35 min  ┃┈██████████████████████████▓┈┨      0.2411  │     89.78 %  ┃\n",
      "┃          45  ┃      0.2218  │     91.27 %  ┃   1.000e-03  │   05:25 min  ┃┈██████████████████████████▓┈┨      0.2567  │     89.00 %  ┃\n",
      "┃          46  ┃      0.2219  │     91.27 %  ┃   1.000e-03  │   05:29 min  ┃┈██████████████████████████▓┈┨      0.2668  │     88.24 %  ┃\n",
      "┃          47  ┃      0.2193  │     91.49 %  ┃   1.000e-03  │   05:16 min  ┃┈██████████████████████████▓┈┨      0.2703  │     88.21 %  ┃\n",
      "┃          48  ┃      0.2189  │     91.38 %  ┃   1.000e-03  │   05:33 min  ┃┈██████████████████████████▓┈┨      0.2744  │     88.50 %  ┃\n",
      "┃          49  ┃      0.2184  │     91.41 %  ┃   1.000e-03  │   05:27 min  ┃┈██████████████████████████▓┈┨      0.2392  │     89.68 %  ┃\n",
      "┃          50  ┃      0.2208  │     91.29 %  ┃   1.000e-03  │   05:33 min  ┃┈██████████████████████████▓┈┨      0.2699  │     88.58 %  ┃\n",
      "┃          51  ┃      0.2213  │     91.35 %  ┃   1.000e-03  │   05:28 min  ┃┈██████████████████████████▓┈┨      0.2751  │     88.48 %  ┃\n",
      "┃          52  ┃      0.2174  │     91.48 %  ┃   1.000e-03  │   05:22 min  ┃┈██████████████████████████▓┈┨      0.2531  │     89.29 %  ┃\n",
      "┃          53  ┃      0.2159  │     91.50 %  ┃   1.000e-03  │   05:44 min  ┃┈██████████████████████████▓┈┨      0.2530  │     89.21 %  ┃\n",
      "┃          54  ┃      0.2181  │     91.52 %  ┃   1.000e-03  │   05:38 min  ┃┈██████████████████████████▓┈┨      0.2513  │     89.38 %  ┃\n",
      "┃          55  ┃      0.2141  │     91.59 %  ┃   1.000e-03  │   05:31 min  ┃┈██████████████████████████▓┈┨      0.2597  │     89.00 %  ┃\n"
     ]
    },
    {
     "name": "stdout",
     "output_type": "stream",
     "text": [
      "┃          56  ┃      0.2158  │     91.63 %  ┃   1.000e-03  │   05:35 min  ┃┈██████████████████████████▓┈┨      0.2663  │     88.24 %  ┃\n",
      "┃          57  ┃      0.2142  │     91.67 %  ┃   1.000e-03  │   05:29 min  ┃┈██████████████████████████▓┈┨      0.2498  │     89.56 %  ┃\n",
      "┃          58  ┃      0.2149  │     91.61 %  ┃   1.000e-03  │   06:09 min  ┃┈██████████████████████████▓┈┨      0.3253  │     85.93 %  ┃\n",
      "┃          59  ┃      0.2146  │     91.61 %  ┃   1.000e-03  │   05:20 min  ┃┈██████████████████████████▓┈┨      0.2443  │     89.70 %  ┃\n",
      "┃          60  ┃      0.1564  │     94.12 %  ┃   2.000e-04  │   05:06 min  ┃┈██████████████████████████▓┈┨      0.1713  │     92.73 %  ┃\n",
      "┃          61  ┃      0.1366  │     95.07 %  ┃   2.000e-04  │   05:06 min  ┃┈██████████████████████████▓┈┨      0.1641  │     93.01 %  ┃\n",
      "┃          62  ┃      0.1276  │     95.51 %  ┃   2.000e-04  │   05:31 min  ┃┈██████████████████████████▓┈┨      0.1605  │     93.18 %  ┃\n",
      "┃          63  ┃      0.1224  │     95.76 %  ┃   2.000e-04  │   05:44 min  ┃┈██████████████████████████▓┈┨      0.1615  │     93.19 %  ┃\n",
      "┃          64  ┃      0.1185  │     95.94 %  ┃   2.000e-04  │   05:46 min  ┃┈██████████████████████████▓┈┨      0.1605  │     93.45 %  ┃\n",
      "┃          65  ┃      0.1152  │     96.05 %  ┃   2.000e-04  │   05:38 min  ┃┈██████████████████████████▓┈┨      0.1605  │     92.98 %  ┃\n",
      "┃          66  ┃      0.1120  │     96.29 %  ┃   2.000e-04  │   05:55 min  ┃┈██████████████████████████▓┈┨      0.1553  │     93.53 %  ┃\n",
      "┃          67  ┃      0.1079  │     96.42 %  ┃   2.000e-04  │   06:00 min  ┃┈██████████████████████████▓┈┨      0.1532  │     93.54 %  ┃\n",
      "┃          68  ┃      0.1059  │     96.51 %  ┃   2.000e-04  │   05:42 min  ┃┈██████████████████████████▓┈┨      0.1582  │     93.23 %  ┃\n",
      "┃          69  ┃      0.1045  │     96.53 %  ┃   2.000e-04  │   06:06 min  ┃┈██████████████████████████▓┈┨      0.1582  │     93.20 %  ┃\n",
      "┃          70  ┃      0.1024  │     96.63 %  ┃   2.000e-04  │   05:54 min  ┃┈██████████████████████████▓┈┨      0.1533  │     93.70 %  ┃\n",
      "┃          71  ┃      0.1002  │     96.75 %  ┃   2.000e-04  │   05:55 min  ┃┈██████████████████████████▓┈┨      0.1550  │     93.43 %  ┃\n",
      "┃          72  ┃      0.0992  │     96.79 %  ┃   2.000e-04  │   06:01 min  ┃┈██████████████████████████▓┈┨      0.1506  │     93.48 %  ┃\n",
      "┃          73  ┃      0.0960  │     97.02 %  ┃   2.000e-04  │   06:33 min  ┃┈██████████████████████████▓┈┨      0.1477  │     93.81 %  ┃\n",
      "┃          74  ┃      0.0948  │     96.91 %  ┃   2.000e-04  │   06:08 min  ┃┈██████████████████████████▓┈┨      0.1473  │     93.65 %  ┃\n",
      "┃          75  ┃      0.0923  │     97.11 %  ┃   2.000e-04  │   06:29 min  ┃┈██████████████████████████▓┈┨      0.1525  │     93.40 %  ┃\n",
      "┃          76  ┃      0.0930  │     97.06 %  ┃   2.000e-04  │   06:35 min  ┃┈██████████████████████████▓┈┨      0.1516  │     93.64 %  ┃\n",
      "┃          77  ┃      0.0906  │     97.16 %  ┃   2.000e-04  │   06:35 min  ┃┈██████████████████████████▓┈┨      0.1489  │     93.52 %  ┃\n",
      "┃          78  ┃      0.0886  │     97.21 %  ┃   2.000e-04  │   06:37 min  ┃┈██████████████████████████▓┈┨      0.1502  │     93.53 %  ┃\n",
      "┃          79  ┃      0.0879  │     97.30 %  ┃   2.000e-04  │   06:29 min  ┃┈██████████████████████████▓┈┨      0.1512  │     93.57 %  ┃\n",
      "┃          80  ┃      0.0876  │     97.30 %  ┃   2.000e-04  │   06:20 min  ┃┈██████████████████████████▓┈┨      0.1507  │     93.54 %  ┃\n",
      "┃          81  ┃      0.0850  │     97.41 %  ┃   2.000e-04  │   06:33 min  ┃┈██████████████████████████▓┈┨      0.1462  │     93.80 %  ┃\n",
      "┃          82  ┃      0.0859  │     97.36 %  ┃   2.000e-04  │   06:33 min  ┃┈██████████████████████████▓┈┨      0.1491  │     93.51 %  ┃\n",
      "┃          83  ┃      0.0840  │     97.47 %  ┃   2.000e-04  │   06:39 min  ┃┈██████████████████████████▓┈┨      0.1464  │     93.60 %  ┃\n",
      "┃          84  ┃      0.0821  │     97.51 %  ┃   2.000e-04  │   07:35 min  ┃┈██████████████████████████▓┈┨      0.1511  │     93.52 %  ┃\n",
      "┃          85  ┃      0.0799  │     97.50 %  ┃   2.000e-04  │   03:38 min  ┠┈████████████░┈┈┈┈┈┈┈┈┈┈┈┈┈┈┈┨"
     ]
    }
   ],
   "source": [
    "for epoch in range(epochs):\n",
    "    model.train()\n",
    "    log.train(len_dataset=len(dataset.train))\n",
    "\n",
    "    for batch in dataset.train:\n",
    "        inputs, targets = (b.to(device) for b in batch)\n",
    "\n",
    "        # first forward-backward step\n",
    "        enable_running_stats(model)\n",
    "        predictions = model(inputs)\n",
    "        loss = smooth_crossentropy(predictions, targets, smoothing=label_smoothing)\n",
    "        loss.mean().backward()\n",
    "        optimizer.first_step(zero_grad=True)\n",
    "\n",
    "        # second forward-backward step\n",
    "        disable_running_stats(model)\n",
    "        smooth_crossentropy(model(inputs), targets, smoothing=label_smoothing).mean().backward()\n",
    "        optimizer.second_step(zero_grad=True)\n",
    "\n",
    "        with torch.no_grad():\n",
    "            correct = torch.argmax(predictions.data, 1) == targets\n",
    "            log(model, loss.cpu(), correct.cpu(), scheduler.lr())\n",
    "            scheduler(epoch)\n",
    "\n",
    "    model.eval()\n",
    "    cur_loss, cur_acc = log.eval(len_dataset=len(dataset.test))\n",
    "    train_losses[epoch] = cur_loss\n",
    "    train_accuracy[epoch] = cur_acc\n",
    "\n",
    "    with torch.no_grad():\n",
    "        for batch in dataset.test:\n",
    "            inputs, targets = (b.to(device) for b in batch)\n",
    "\n",
    "            predictions = model(inputs)\n",
    "            loss = smooth_crossentropy(predictions, targets)\n",
    "            correct = torch.argmax(predictions, 1) == targets\n",
    "            log(model, loss.cpu(), correct.cpu())\n",
    "        if epoch > 0:\n",
    "            val_losses[epoch-1] = log.current_valid_loss\n",
    "            val_accuracy[epoch-1] = log.current_valid_accuracy\n",
    "\n",
    "val_losses[epochs-1] = log.current_valid_loss\n",
    "val_accuracy[epochs-1] = log.current_valid_accuracy\n",
    "log.flush()"
   ]
  },
  {
   "cell_type": "code",
   "execution_count": null,
   "id": "83c29565",
   "metadata": {},
   "outputs": [],
   "source": [
    "torch.save(model.state_dict(), 'sam_model_adam_resnet.ckpt')"
   ]
  },
  {
   "cell_type": "code",
   "execution_count": null,
   "id": "86370de7",
   "metadata": {},
   "outputs": [],
   "source": [
    "plt.plot(range(1, epochs+1), train_losses, label='Train loss')\n",
    "plt.plot(range(1, epochs+1), val_losses, label='Validation loss')"
   ]
  },
  {
   "cell_type": "code",
   "execution_count": null,
   "id": "81b014d2",
   "metadata": {},
   "outputs": [],
   "source": [
    "plt.plot(range(1, epochs+1), train_accuracy, label='Train Accuracy')\n",
    "plt.plot(range(1, epochs+1), val_accuracy, label='Train Accuracy')"
   ]
  },
  {
   "cell_type": "code",
   "execution_count": null,
   "id": "91d5123c",
   "metadata": {},
   "outputs": [],
   "source": []
  }
 ],
 "metadata": {
  "kernelspec": {
   "display_name": "Python 3",
   "language": "python",
   "name": "python3"
  },
  "language_info": {
   "codemirror_mode": {
    "name": "ipython",
    "version": 3
   },
   "file_extension": ".py",
   "mimetype": "text/x-python",
   "name": "python",
   "nbconvert_exporter": "python",
   "pygments_lexer": "ipython3",
   "version": "3.10.4"
  }
 },
 "nbformat": 4,
 "nbformat_minor": 5
}